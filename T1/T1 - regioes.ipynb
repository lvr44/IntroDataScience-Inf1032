{
 "cells": [
  {
   "cell_type": "code",
   "execution_count": 91,
   "id": "14f2f4fb",
   "metadata": {},
   "outputs": [],
   "source": [
    "import geopandas as gpd\n",
    "import pandas as pd\n",
    "import numpy as np\n",
    "import folium\n",
    "from matplotlib import pyplot as plt\n",
    "from geopy.geocoders import Nominatim\n",
    "from folium import Marker\n",
    "import warnings \n",
    "warnings.filterwarnings('ignore')"
   ]
  },
  {
   "cell_type": "code",
   "execution_count": 92,
   "id": "b197dd30",
   "metadata": {},
   "outputs": [],
   "source": [
    "geolocator = Nominatim(user_agent=\"Guerra\")\n",
    "location = geolocator.geocode(\"Romania\")"
   ]
  },
  {
   "cell_type": "code",
   "execution_count": 93,
   "id": "90d54718",
   "metadata": {},
   "outputs": [
    {
     "name": "stdout",
     "output_type": "stream",
     "text": [
      "Latitude: 45.9852129\n",
      "Longitude: 24.6859225\n"
     ]
    }
   ],
   "source": [
    "point = location.point\n",
    "print(\"Latitude:\", point.latitude)\n",
    "print(\"Longitude:\", point.longitude)"
   ]
  },
  {
   "cell_type": "code",
   "execution_count": 94,
   "id": "962b022c",
   "metadata": {},
   "outputs": [],
   "source": [
    "countries = pd.read_csv(\"../Dados/UKR_refugee_by_countries.csv\")\n",
    "#countries=pd.DataFrame(pd.unique(countries[\"country\"]))\n",
    "countries=countries.groupby('country')[['individuals']].max().reset_index()\n",
    "\n",
    "\n",
    "\n"
   ]
  },
  {
   "cell_type": "code",
   "execution_count": 95,
   "id": "7c0f91b8",
   "metadata": {},
   "outputs": [
    {
     "name": "stdout",
     "output_type": "stream",
     "text": [
      "87.5% of addresses were geocoded!\n"
     ]
    },
    {
     "data": {
      "text/html": [
       "<div>\n",
       "<style scoped>\n",
       "    .dataframe tbody tr th:only-of-type {\n",
       "        vertical-align: middle;\n",
       "    }\n",
       "\n",
       "    .dataframe tbody tr th {\n",
       "        vertical-align: top;\n",
       "    }\n",
       "\n",
       "    .dataframe thead th {\n",
       "        text-align: right;\n",
       "    }\n",
       "</style>\n",
       "<table border=\"1\" class=\"dataframe\">\n",
       "  <thead>\n",
       "    <tr style=\"text-align: right;\">\n",
       "      <th></th>\n",
       "      <th>country</th>\n",
       "      <th>individuals</th>\n",
       "      <th>Latitude</th>\n",
       "      <th>Longitude</th>\n",
       "      <th>geometry</th>\n",
       "    </tr>\n",
       "  </thead>\n",
       "  <tbody>\n",
       "    <tr>\n",
       "      <th>0</th>\n",
       "      <td>Belarus</td>\n",
       "      <td>27308</td>\n",
       "      <td>53.425061</td>\n",
       "      <td>27.697136</td>\n",
       "      <td>POINT (27.69714 53.42506)</td>\n",
       "    </tr>\n",
       "    <tr>\n",
       "      <th>1</th>\n",
       "      <td>Hungary</td>\n",
       "      <td>1381738</td>\n",
       "      <td>47.181759</td>\n",
       "      <td>19.506094</td>\n",
       "      <td>POINT (19.50609 47.18176)</td>\n",
       "    </tr>\n",
       "    <tr>\n",
       "      <th>3</th>\n",
       "      <td>Poland</td>\n",
       "      <td>6114787</td>\n",
       "      <td>52.215933</td>\n",
       "      <td>19.134422</td>\n",
       "      <td>POINT (19.13442 52.21593)</td>\n",
       "    </tr>\n",
       "    <tr>\n",
       "      <th>4</th>\n",
       "      <td>Republic of Moldova</td>\n",
       "      <td>606707</td>\n",
       "      <td>47.287961</td>\n",
       "      <td>28.567094</td>\n",
       "      <td>POINT (28.56709 47.28796)</td>\n",
       "    </tr>\n",
       "    <tr>\n",
       "      <th>5</th>\n",
       "      <td>Romania</td>\n",
       "      <td>1169027</td>\n",
       "      <td>45.985213</td>\n",
       "      <td>24.685923</td>\n",
       "      <td>POINT (24.68592 45.98521)</td>\n",
       "    </tr>\n",
       "    <tr>\n",
       "      <th>6</th>\n",
       "      <td>Russian Federation</td>\n",
       "      <td>2593209</td>\n",
       "      <td>64.686314</td>\n",
       "      <td>97.745306</td>\n",
       "      <td>POINT (97.74531 64.68631)</td>\n",
       "    </tr>\n",
       "    <tr>\n",
       "      <th>7</th>\n",
       "      <td>Slovakia</td>\n",
       "      <td>778335</td>\n",
       "      <td>48.741152</td>\n",
       "      <td>19.452865</td>\n",
       "      <td>POINT (19.45286 48.74115)</td>\n",
       "    </tr>\n",
       "  </tbody>\n",
       "</table>\n",
       "</div>"
      ],
      "text/plain": [
       "               country  individuals   Latitude  Longitude  \\\n",
       "0              Belarus        27308  53.425061  27.697136   \n",
       "1              Hungary      1381738  47.181759  19.506094   \n",
       "3               Poland      6114787  52.215933  19.134422   \n",
       "4  Republic of Moldova       606707  47.287961  28.567094   \n",
       "5              Romania      1169027  45.985213  24.685923   \n",
       "6   Russian Federation      2593209  64.686314  97.745306   \n",
       "7             Slovakia       778335  48.741152  19.452865   \n",
       "\n",
       "                    geometry  \n",
       "0  POINT (27.69714 53.42506)  \n",
       "1  POINT (19.50609 47.18176)  \n",
       "3  POINT (19.13442 52.21593)  \n",
       "4  POINT (28.56709 47.28796)  \n",
       "5  POINT (24.68592 45.98521)  \n",
       "6  POINT (97.74531 64.68631)  \n",
       "7  POINT (19.45286 48.74115)  "
      ]
     },
     "metadata": {},
     "output_type": "display_data"
    }
   ],
   "source": [
    "def my_geocoder(row):\n",
    "    try:\n",
    "        point = geolocator.geocode(row).point\n",
    "        return pd.Series({'Latitude': point.latitude, 'Longitude': point.longitude})\n",
    "    except:\n",
    "        return None\n",
    "\n",
    "countries[['Latitude', 'Longitude']] = countries.head(8).apply(lambda x: my_geocoder(x['country']), axis=1)\n",
    "\n",
    "print(\"{}% of addresses were geocoded!\".format(\n",
    "    (1 - sum(np.isnan(countries[\"Latitude\"])) / len(countries)) * 100))\n",
    "\n",
    "# Drop universities that were not successfully geocoded\n",
    "countries = countries.loc[~np.isnan(countries[\"Latitude\"])]\n",
    "countries = gpd.GeoDataFrame(\n",
    "    countries, geometry=gpd.points_from_xy(countries.Longitude, countries.Latitude))\n",
    "countries.crs = {'init': 'epsg:4326'}\n",
    "display(countries)"
   ]
  },
  {
   "cell_type": "code",
   "execution_count": 97,
   "id": "dc0420d7",
   "metadata": {},
   "outputs": [
    {
     "ename": "KeyError",
     "evalue": "'country'",
     "output_type": "error",
     "traceback": [
      "\u001b[1;31m---------------------------------------------------------------------------\u001b[0m",
      "\u001b[1;31mKeyError\u001b[0m                                  Traceback (most recent call last)",
      "Cell \u001b[1;32mIn[97], line 34\u001b[0m\n\u001b[0;32m     32\u001b[0m usa_step \u001b[39m=\u001b[39m folium\u001b[39m.\u001b[39mMap([\u001b[39m48\u001b[39m, \u001b[39m-\u001b[39m\u001b[39m102\u001b[39m], tiles\u001b[39m=\u001b[39m\u001b[39m'\u001b[39m\u001b[39mcartodbpositron\u001b[39m\u001b[39m'\u001b[39m, zoom_start\u001b[39m=\u001b[39m\u001b[39m3\u001b[39m)\n\u001b[0;32m     33\u001b[0m geo_json_data\u001b[39m=\u001b[39m json\u001b[39m.\u001b[39mloads(rq\u001b[39m.\u001b[39mget(political_countries_url)\u001b[39m.\u001b[39mtext)\n\u001b[1;32m---> 34\u001b[0m folium\u001b[39m.\u001b[39;49mGeoJson(\n\u001b[0;32m     35\u001b[0m     geo_json_data,\n\u001b[0;32m     36\u001b[0m     style_function\u001b[39m=\u001b[39;49m\u001b[39mlambda\u001b[39;49;00m feature: {\n\u001b[0;32m     37\u001b[0m         \u001b[39m'\u001b[39;49m\u001b[39mfillColor\u001b[39;49m\u001b[39m'\u001b[39;49m: step(unemployment_dict[feature[\u001b[39m'\u001b[39;49m\u001b[39mcountry\u001b[39;49m\u001b[39m'\u001b[39;49m]]),\n\u001b[0;32m     38\u001b[0m         \u001b[39m'\u001b[39;49m\u001b[39mcolor\u001b[39;49m\u001b[39m'\u001b[39;49m: \u001b[39m'\u001b[39;49m\u001b[39mblack\u001b[39;49m\u001b[39m'\u001b[39;49m,       \u001b[39m#border color for the color fills\u001b[39;49;00m\n\u001b[0;32m     39\u001b[0m         \u001b[39m'\u001b[39;49m\u001b[39mweight\u001b[39;49m\u001b[39m'\u001b[39;49m: \u001b[39m1\u001b[39;49m,            \u001b[39m#how thick the border has to be\u001b[39;49;00m\n\u001b[0;32m     40\u001b[0m         \u001b[39m'\u001b[39;49m\u001b[39mdashArray\u001b[39;49m\u001b[39m'\u001b[39;49m: \u001b[39m'\u001b[39;49m\u001b[39m5, 3\u001b[39;49m\u001b[39m'\u001b[39;49m  \u001b[39m#dashed lines length,space between them\u001b[39;49;00m\n\u001b[0;32m     41\u001b[0m     }\n\u001b[0;32m     42\u001b[0m )\u001b[39m.\u001b[39madd_to(usa_step)\n\u001b[0;32m     43\u001b[0m step\u001b[39m.\u001b[39madd_to(usa_step)     \u001b[39m#adds colorscale or legend\u001b[39;00m\n\u001b[0;32m     46\u001b[0m \u001b[39m# Display the map\u001b[39;00m\n",
      "File \u001b[1;32m~\\AppData\\Local\\Packages\\PythonSoftwareFoundation.Python.3.10_qbz5n2kfra8p0\\LocalCache\\local-packages\\Python310\\site-packages\\folium\\features.py:648\u001b[0m, in \u001b[0;36mGeoJson.__init__\u001b[1;34m(self, data, style_function, highlight_function, name, overlay, control, show, smooth_factor, tooltip, embed, popup, zoom_on_click, marker)\u001b[0m\n\u001b[0;32m    646\u001b[0m \u001b[39mself\u001b[39m\u001b[39m.\u001b[39mconvert_to_feature_collection()\n\u001b[0;32m    647\u001b[0m \u001b[39mif\u001b[39;00m \u001b[39mself\u001b[39m\u001b[39m.\u001b[39mstyle:\n\u001b[1;32m--> 648\u001b[0m     \u001b[39mself\u001b[39;49m\u001b[39m.\u001b[39;49m_validate_function(style_function, \u001b[39m\"\u001b[39;49m\u001b[39mstyle_function\u001b[39;49m\u001b[39m\"\u001b[39;49m)\n\u001b[0;32m    649\u001b[0m     \u001b[39mself\u001b[39m\u001b[39m.\u001b[39mstyle_function \u001b[39m=\u001b[39m style_function\n\u001b[0;32m    650\u001b[0m     \u001b[39mself\u001b[39m\u001b[39m.\u001b[39mstyle_map \u001b[39m=\u001b[39m {}\n",
      "File \u001b[1;32m~\\AppData\\Local\\Packages\\PythonSoftwareFoundation.Python.3.10_qbz5n2kfra8p0\\LocalCache\\local-packages\\Python310\\site-packages\\folium\\features.py:724\u001b[0m, in \u001b[0;36mGeoJson._validate_function\u001b[1;34m(self, func, name)\u001b[0m\n\u001b[0;32m    721\u001b[0m     \u001b[39mreturn\u001b[39;00m\n\u001b[0;32m    723\u001b[0m test_feature \u001b[39m=\u001b[39m \u001b[39mself\u001b[39m\u001b[39m.\u001b[39mdata[\u001b[39m\"\u001b[39m\u001b[39mfeatures\u001b[39m\u001b[39m\"\u001b[39m][\u001b[39m0\u001b[39m]\n\u001b[1;32m--> 724\u001b[0m \u001b[39mif\u001b[39;00m \u001b[39mnot\u001b[39;00m callable(func) \u001b[39mor\u001b[39;00m \u001b[39mnot\u001b[39;00m \u001b[39misinstance\u001b[39m(func(test_feature), \u001b[39mdict\u001b[39m):\n\u001b[0;32m    725\u001b[0m     \u001b[39mraise\u001b[39;00m \u001b[39mValueError\u001b[39;00m(\n\u001b[0;32m    726\u001b[0m         \u001b[39m\"\u001b[39m\u001b[39m{}\u001b[39;00m\u001b[39m should be a function that accepts items from \u001b[39m\u001b[39m\"\u001b[39m\n\u001b[0;32m    727\u001b[0m         \u001b[39m\"\u001b[39m\u001b[39mdata[\u001b[39m\u001b[39m'\u001b[39m\u001b[39mfeatures\u001b[39m\u001b[39m'\u001b[39m\u001b[39m] and returns a dictionary.\u001b[39m\u001b[39m\"\u001b[39m\u001b[39m.\u001b[39mformat(name)\n\u001b[0;32m    728\u001b[0m     )\n",
      "Cell \u001b[1;32mIn[97], line 37\u001b[0m, in \u001b[0;36m<lambda>\u001b[1;34m(feature)\u001b[0m\n\u001b[0;32m     32\u001b[0m usa_step \u001b[39m=\u001b[39m folium\u001b[39m.\u001b[39mMap([\u001b[39m48\u001b[39m, \u001b[39m-\u001b[39m\u001b[39m102\u001b[39m], tiles\u001b[39m=\u001b[39m\u001b[39m'\u001b[39m\u001b[39mcartodbpositron\u001b[39m\u001b[39m'\u001b[39m, zoom_start\u001b[39m=\u001b[39m\u001b[39m3\u001b[39m)\n\u001b[0;32m     33\u001b[0m geo_json_data\u001b[39m=\u001b[39m json\u001b[39m.\u001b[39mloads(rq\u001b[39m.\u001b[39mget(political_countries_url)\u001b[39m.\u001b[39mtext)\n\u001b[0;32m     34\u001b[0m folium\u001b[39m.\u001b[39mGeoJson(\n\u001b[0;32m     35\u001b[0m     geo_json_data,\n\u001b[0;32m     36\u001b[0m     style_function\u001b[39m=\u001b[39m\u001b[39mlambda\u001b[39;00m feature: {\n\u001b[1;32m---> 37\u001b[0m         \u001b[39m'\u001b[39m\u001b[39mfillColor\u001b[39m\u001b[39m'\u001b[39m: step(unemployment_dict[feature[\u001b[39m'\u001b[39;49m\u001b[39mcountry\u001b[39;49m\u001b[39m'\u001b[39;49m]]),\n\u001b[0;32m     38\u001b[0m         \u001b[39m'\u001b[39m\u001b[39mcolor\u001b[39m\u001b[39m'\u001b[39m: \u001b[39m'\u001b[39m\u001b[39mblack\u001b[39m\u001b[39m'\u001b[39m,       \u001b[39m#border color for the color fills\u001b[39;00m\n\u001b[0;32m     39\u001b[0m         \u001b[39m'\u001b[39m\u001b[39mweight\u001b[39m\u001b[39m'\u001b[39m: \u001b[39m1\u001b[39m,            \u001b[39m#how thick the border has to be\u001b[39;00m\n\u001b[0;32m     40\u001b[0m         \u001b[39m'\u001b[39m\u001b[39mdashArray\u001b[39m\u001b[39m'\u001b[39m: \u001b[39m'\u001b[39m\u001b[39m5, 3\u001b[39m\u001b[39m'\u001b[39m  \u001b[39m#dashed lines length,space between them\u001b[39;00m\n\u001b[0;32m     41\u001b[0m     }\n\u001b[0;32m     42\u001b[0m )\u001b[39m.\u001b[39madd_to(usa_step)\n\u001b[0;32m     43\u001b[0m step\u001b[39m.\u001b[39madd_to(usa_step)     \u001b[39m#adds colorscale or legend\u001b[39;00m\n\u001b[0;32m     46\u001b[0m \u001b[39m# Display the map\u001b[39;00m\n",
      "\u001b[1;31mKeyError\u001b[0m: 'country'"
     ]
    }
   ],
   "source": [
    "import branca.colormap as cmp\n",
    "import requests as rq\n",
    "import json\n",
    "\n",
    "# Create a map\n",
    "m = folium.Map(location=[48, 31],zoom_start=4, tiles='cartodb positron')\n",
    "\n",
    "# Add points to the map\n",
    "for idx, row in countries.iterrows():\n",
    "    Marker([row['Latitude'], row['Longitude']], popup=row['country']).add_to(m)\n",
    "political_countries_url = (\n",
    "    \"http://geojson.xyz/naturalearth-3.3.0/ne_50m_admin_0_countries.geojson\"\n",
    ")\n",
    "folium.Choropleth(\n",
    "    geo_data=political_countries_url,\n",
    "    data=countries,\n",
    "    columns=[\"country\", \"individuals\"],\n",
    "    key_on=\"feature.properties.name\",\n",
    "    legend_name = \"Refugees Scale\",\n",
    ").add_to(m)\n",
    "\n",
    "step = cmp.StepColormap(\n",
    " ['yellow', 'green', 'purple'],\n",
    " vmin=3, vmax=10,\n",
    " index=[3, 6, 8, 10],  #for change in the colors, not used fr linear\n",
    " caption='Color Scale for Map'    #Caption for Color scale or Legend\n",
    ")\n",
    "step\n",
    "\n",
    "unemployment_dict = countries.set_index('country')['individuals']\n",
    "\n",
    "usa_step = folium.Map([48, -102], tiles='cartodbpositron', zoom_start=3)\n",
    "geo_json_data= json.loads(rq.get(political_countries_url).text)\n",
    "folium.GeoJson(\n",
    "    geo_json_data,\n",
    "    style_function=lambda feature: {\n",
    "        'fillColor': step(unemployment_dict[feature['country']]),\n",
    "        'color': 'black',       #border color for the color fills\n",
    "        'weight': 1,            #how thick the border has to be\n",
    "        'dashArray': '5, 3'  #dashed lines length,space between them\n",
    "    }\n",
    ").add_to(usa_step)\n",
    "step.add_to(usa_step)     #adds colorscale or legend\n",
    "\n",
    "\n",
    "# Display the map\n",
    "usa_step"
   ]
  }
 ],
 "metadata": {
  "kernelspec": {
   "display_name": "Python 3 (ipykernel)",
   "language": "python",
   "name": "python3"
  },
  "language_info": {
   "codemirror_mode": {
    "name": "ipython",
    "version": 3
   },
   "file_extension": ".py",
   "mimetype": "text/x-python",
   "name": "python",
   "nbconvert_exporter": "python",
   "pygments_lexer": "ipython3",
   "version": "3.10.11"
  }
 },
 "nbformat": 4,
 "nbformat_minor": 5
}
