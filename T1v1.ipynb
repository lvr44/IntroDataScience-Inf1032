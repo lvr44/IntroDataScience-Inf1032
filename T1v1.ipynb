{
 "cells": [
  {
   "cell_type": "markdown",
   "id": "bf4d91ad",
   "metadata": {},
   "source": [
    "# Trabalho de Introdução a Ciência de Dados\n"
   ]
  },
  {
   "cell_type": "code",
   "execution_count": 1,
   "id": "8a386a6b",
   "metadata": {},
   "outputs": [],
   "source": [
    "from matplotlib import pyplot as plt\n",
    "import pandas as pd\n",
    "import numpy as np"
   ]
  },
  {
   "cell_type": "code",
   "execution_count": null,
   "id": "c5e6370b",
   "metadata": {},
   "outputs": [],
   "source": []
  }
 ],
 "metadata": {
  "kernelspec": {
   "display_name": "Python 3 (ipykernel)",
   "language": "python",
   "name": "python3"
  },
  "language_info": {
   "codemirror_mode": {
    "name": "ipython",
    "version": 3
   },
   "file_extension": ".py",
   "mimetype": "text/x-python",
   "name": "python",
   "nbconvert_exporter": "python",
   "pygments_lexer": "ipython3",
   "version": "3.9.12"
  }
 },
 "nbformat": 4,
 "nbformat_minor": 5
}
